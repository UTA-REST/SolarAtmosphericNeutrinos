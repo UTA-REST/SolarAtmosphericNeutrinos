{
 "cells": [
  {
   "cell_type": "code",
   "execution_count": 1,
   "metadata": {
    "collapsed": false
   },
   "outputs": [],
   "source": [
    "%load_ext autoreload\n",
    "%matplotlib inline\n",
    "%autoreload 2\n",
    "import pylab\n",
    "import matplotlib\n",
    "import matplotlib.pyplot as plt\n",
    "plt.rc(\"savefig\", dpi=500)\n",
    "\n",
    "\n",
    "import numpy"
   ]
  },
  {
   "cell_type": "code",
   "execution_count": 2,
   "metadata": {
    "collapsed": false
   },
   "outputs": [],
   "source": [
    "MCEqPath=\"/Users/jonesb/Documents/Work/SolarAtmosphere/MCEq\"\n",
    "NBins=1000\n",
    "InDir=\"../InterpTestCorrected/\"\n",
    "OutDir=\"../InterpTestCorrectedInterpolated\"+str(NBins)+\"/\"\n",
    "\n",
    "\n",
    "import os\n",
    "import sys\n",
    "from os.path import join\n",
    "os.chdir(MCEqPath)\n",
    "sys.path.append(MCEqPath+\"/MCEqRunner\")\n",
    "plt.rc(\"savefig\", dpi=200)\n",
    "import scipy\n",
    "from scipy import interpolate\n",
    "\n",
    "\n",
    "import MCEqRunF"
   ]
  },
  {
   "cell_type": "code",
   "execution_count": 3,
   "metadata": {
    "collapsed": true
   },
   "outputs": [],
   "source": [
    "IDToName,NameToID=MCEqRunF.MakeNameDicts()"
   ]
  },
  {
   "cell_type": "code",
   "execution_count": 8,
   "metadata": {
    "collapsed": false
   },
   "outputs": [],
   "source": [
    "#PrimaryModels=[\"CombinedGHAndHG_H4a\",\"HillasGaisser_H4a\",\"GaisserHonda\",\"PolyGonato\",\"Thunman\",\"ZatsepinSokolskaya\"]\n",
    "#Atmospheres=[\"HybridModelShorter\",\"IngelmanThurmanAtmosphere\",\"HybridModel\"]\n",
    "#HadronicModels=[\"QGSJET-II-04\",\"SIBYLL2.3\",\"SIBYLL2.1\",\"SIBYLL2.3MRS\",\"SIBYLL2.1MRS\",\"EPOS-LHC\",\"SIBYLL2.3_pp\",\"SIBYLL2.3_ppMRS\"]\n",
    "\n",
    "PrimaryModels=[\"HillasGaisser_H4a\"]\n",
    "Atmospheres=[\"HybridModelShorter\"]\n",
    "HadronicModels=[\"SIBYLL2.3_ppMRS\"]\n",
    "\n",
    "\n",
    "\n",
    "FileNames=[]\n",
    "for prim in PrimaryModels:\n",
    "    for atm in Atmospheres:\n",
    "        for had in HadronicModels:\n",
    "            for b in range(0,10):\n",
    "#                FileNames.append(atm+\"_\"+had+\"_\"+prim+\"/flux_0.\"+str(b)+\"_b0.\"+str(b)+\"000\")\n",
    "                FileNames.append(atm+\"_\"+had+\"_\"+prim+\"/flux_0.\"+str(b)+\"_b0.\"+str(b)+\"000\")\n",
    "\n",
    "\n",
    "            if((not os.path.isdir(OutDir+atm+\"_\"+had+\"_\"+prim)) and os.path.isdir(InDir+atm+\"_\"+had+\"_\"+prim) and os.listdir(InDir+atm+\"_\"+had+\"_\"+prim)>0):\n",
    "                os.mkdir(OutDir+atm+\"_\"+had+\"_\"+prim)"
   ]
  },
  {
   "cell_type": "code",
   "execution_count": null,
   "metadata": {
    "collapsed": false
   },
   "outputs": [],
   "source": []
  },
  {
   "cell_type": "code",
   "execution_count": 9,
   "metadata": {
    "collapsed": false
   },
   "outputs": [],
   "source": [
    "\n",
    "for f in range(0, len(FileNames)):\n",
    "    ToLoad=InDir+FileNames[f]+\"_E.txt\"\n",
    "    if os.path.isfile(ToLoad) and not (os.path.isfile(OutDir+FileNames[f]+\"_E.txt\")):\n",
    "        \n",
    "        Data=numpy.loadtxt(ToLoad)\n",
    "        ReturnData=[]\n",
    "        for row in Data:\n",
    "            rowint=scipy.interpolate.interp1d(range(0,len(row)),row)\n",
    "            ReturnRow=[]\n",
    "            for x in numpy.linspace(0,len(row)-1,NBins):\n",
    "                ReturnRow.append(float(rowint(x)))\n",
    "        \n",
    "            ReturnData.append(ReturnRow)\n",
    "       \n",
    "        numpy.savetxt(OutDir+FileNames[f]+\"_E.txt\",ReturnData)"
   ]
  },
  {
   "cell_type": "code",
   "execution_count": 6,
   "metadata": {
    "collapsed": false
   },
   "outputs": [
    {
     "data": {
      "text/plain": [
       "0.0"
      ]
     },
     "execution_count": 6,
     "metadata": {},
     "output_type": "execute_result"
    }
   ],
   "source": [
    "float(rowint(1))"
   ]
  },
  {
   "cell_type": "code",
   "execution_count": 7,
   "metadata": {
    "collapsed": false
   },
   "outputs": [
    {
     "data": {
      "text/plain": [
       "['flux_0.0_b0.0000_E.txt',\n",
       " 'flux_0.1_b0.1000_E.txt',\n",
       " 'flux_0.2_b0.2000_E.txt',\n",
       " 'flux_0.3_b0.3000_E.txt',\n",
       " 'flux_0.4_b0.4000_E.txt',\n",
       " 'flux_0.5_b0.5000_E.txt',\n",
       " 'flux_0.6_b0.6000_E.txt',\n",
       " 'flux_0.7_b0.7000_E.txt',\n",
       " 'flux_0.8_b0.8000_E.txt',\n",
       " 'flux_0.91_b0.9100_E.txt',\n",
       " 'flux_0.92_b0.9200_E.txt',\n",
       " 'flux_0.93_b0.9300_E.txt',\n",
       " 'flux_0.94_b0.9400_E.txt',\n",
       " 'flux_0.95_b0.9500_E.txt',\n",
       " 'flux_0.96_b0.9600_E.txt',\n",
       " 'flux_0.97_b0.9700_E.txt',\n",
       " 'flux_0.98_b0.9800_E.txt',\n",
       " 'flux_0.99_b0.9900_E.txt',\n",
       " 'flux_0.9_b0.9000_E.txt']"
      ]
     },
     "execution_count": 7,
     "metadata": {},
     "output_type": "execute_result"
    }
   ],
   "source": [
    "os.listdir(InDir+atm+\"_\"+had+\"_\"+prim)"
   ]
  },
  {
   "cell_type": "code",
   "execution_count": null,
   "metadata": {
    "collapsed": true
   },
   "outputs": [],
   "source": []
  }
 ],
 "metadata": {
  "kernelspec": {
   "display_name": "Python 2",
   "language": "python",
   "name": "python2"
  },
  "language_info": {
   "codemirror_mode": {
    "name": "ipython",
    "version": 2
   },
   "file_extension": ".py",
   "mimetype": "text/x-python",
   "name": "python",
   "nbconvert_exporter": "python",
   "pygments_lexer": "ipython2",
   "version": "2.7.11"
  }
 },
 "nbformat": 4,
 "nbformat_minor": 0
}
