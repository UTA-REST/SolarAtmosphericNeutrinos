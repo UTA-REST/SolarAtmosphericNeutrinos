{
 "cells": [
  {
   "cell_type": "code",
   "execution_count": 1,
   "metadata": {
    "collapsed": false
   },
   "outputs": [],
   "source": [
    "%load_ext autoreload\n",
    "%matplotlib inline\n",
    "%autoreload 2\n",
    "import pylab\n",
    "import matplotlib\n",
    "import matplotlib.pyplot as plt\n",
    "plt.rc(\"savefig\", dpi=500)\n",
    "\n",
    "\n",
    "import numpy"
   ]
  },
  {
   "cell_type": "code",
   "execution_count": 2,
   "metadata": {
    "collapsed": true
   },
   "outputs": [],
   "source": [
    "MCEqPath=\"/Users/jonesb/Documents/Work/SolarAtmosphere/MCEq\"\n",
    "OutputDir=\"/Users/jonesb/Documents/Work/SolarAtmosphere/Outputs/\"\n",
    "import os\n",
    "import sys\n",
    "from os.path import join\n",
    "os.chdir(MCEqPath)\n",
    "sys.path.append(MCEqPath+\"/MCEqRunner\")\n",
    "plt.rc(\"savefig\", dpi=200)\n",
    "\n",
    "\n",
    "import MCEqRunF"
   ]
  },
  {
   "cell_type": "code",
   "execution_count": 3,
   "metadata": {
    "collapsed": false
   },
   "outputs": [],
   "source": [
    "IDToName,NameToID=MCEqRunF.MakeNameDicts()"
   ]
  },
  {
   "cell_type": "code",
   "execution_count": 4,
   "metadata": {
    "collapsed": false
   },
   "outputs": [],
   "source": [
    "def MakePiKPromptPlots(FileName,NuType='',mag=3):\n",
    "    initialmag=2.\n",
    "    mag=float(mag)-initialmag\n",
    "    IDToName,NameToID=MCEqRunF.MakeNameDicts()\n",
    "    \n",
    "    FileNameE=FileName+str(\"_E.txt\")\n",
    "    FileNameX=FileName+str(\"_X.txt\")\n",
    "\n",
    "    EArray=numpy.loadtxt(FileNameE)\n",
    "    XArray=numpy.loadtxt(FileNameX)\n",
    "    \n",
    "    EGrid=EArray[0]\n",
    "    XGrid=XArray[1]/(100.*1000.)\n",
    "    \n",
    "    pylab.figure(figsize=(5,5))\n",
    "    if NuType=='numu':\n",
    "        LabelGuy=r'$\\nu_\\mu$ (solid) and $\\bar \\nu_\\mu $ (dashed)'\n",
    "    elif NuType=='nue':\n",
    "        LabelGuy=r'$\\nu_e$ (solid) and $\\bar \\nu_e$ (dashed)'\n",
    "    elif NuType=='nutau':\n",
    "        LabelGuy=r'$\\nu_\\tau$ (solid) and $\\bar \\nu_\\tau$ (dashed)'\n",
    "    TotalSoln=EArray[NameToID[\"total_\"+NuType]+1]+EArray[NameToID[\"total_anti\"+NuType]+1]\n",
    "    pylab.loglog(EGrid, TotalSoln*pow(EGrid,mag),label=r'Total',linestyle='-',color='black')\n",
    "\n",
    "    TotalComponents=numpy.zeros_like(TotalSoln)\n",
    "    \n",
    "    Soln=EArray[NameToID[\"pi_\"+NuType]+1]\n",
    "    TotalComponents+=Soln\n",
    "    if sum(Soln)>0:\n",
    "        pylab.loglog(EGrid, Soln*pow(EGrid,mag),label=r'from $\\pi$',linestyle='-',color='red')\n",
    "    Soln=EArray[NameToID[\"pi_anti\"+NuType]+1]\n",
    "    TotalComponents+=Soln\n",
    "    if sum(Soln)>0:\n",
    "        pylab.loglog(EGrid, Soln*pow(EGrid,mag),linestyle='--',color='red')\n",
    "    Soln=EArray[NameToID[\"k_\"+NuType]+1]\n",
    "    TotalComponents+=Soln\n",
    "    if sum(Soln)>0:\n",
    "        pylab.loglog(EGrid, Soln*pow(EGrid,mag),label=r'from $K$',linestyle='-',color='green')\n",
    "    Soln=EArray[NameToID[\"k_anti\"+NuType]+1]\n",
    "    TotalComponents+=Soln\n",
    "    if sum(Soln)>0:\n",
    "        pylab.loglog(EGrid, Soln*pow(EGrid,mag),linestyle='--',color='green')\n",
    "    Soln=EArray[NameToID[\"obs_\"+NuType]+1]\n",
    "    TotalComponents+=Soln\n",
    "    if sum(Soln)>0:\n",
    "        pylab.loglog(EGrid, Soln*pow(EGrid,mag),label=r'from $\\mu$',linestyle='-',color='orange')\n",
    "    Soln=EArray[NameToID[\"obs_anti\"+NuType]+1]\n",
    "    TotalComponents+=Soln\n",
    "    if sum(Soln)>0:\n",
    "        pylab.loglog(EGrid, Soln*pow(EGrid,mag),linestyle='--',color='orange')\n",
    "    Soln=EArray[NameToID[\"pr_\"+NuType]+1]\n",
    "    TotalComponents+=Soln\n",
    "    if sum(Soln)>0:\n",
    "        pylab.loglog(EGrid, Soln*pow(EGrid,mag),label=r'from prompt',linestyle='-',color='purple')\n",
    "    Soln=EArray[NameToID[\"pr_anti\"+NuType]+1]\n",
    "    TotalComponents+=Soln\n",
    "    if sum(Soln)>0:\n",
    "        pylab.loglog(EGrid, Soln*pow(EGrid,mag),linestyle='--',color='purple')\n",
    "\n",
    "    pylab.plot(EGrid,TotalSoln-TotalComponents,color='grey',label='other')\n",
    "    \n",
    "   # pylab.legend(loc='lower left',title=LabelGuy,fontsize=10)\n",
    "    pylab.xlabel(r\"$E_\\nu$/GeV\")\n",
    "    plt.ylabel(r\"$\\Phi_{\\nu_{\\tau}}$ (E/GeV)$^{\" + str(mag+initialmag) + \"}$ (cm$^{2}$ s sr GeV)$^{-1}$\")\n",
    "    plt.ylim(1e-6,1)\n",
    "    plt.xlim(10,1e5)\n",
    "    pylab.show()\n",
    "    \n",
    "    \n",
    "    pylab.figure(figsize=(8,3))\n",
    "    TotalSoln=XArray[NameToID[\"total_\"+NuType]+2]+XArray[NameToID[\"total_anti\"+NuType]+2]\n",
    "    pylab.plot(XGrid, TotalSoln,label=r'Total',linestyle='-',color='black')\n",
    "    \n",
    "    TotalComponents=numpy.zeros_like(TotalSoln)\n",
    "\n",
    "    Soln=XArray[NameToID[\"pi_\"+NuType]+2]\n",
    "    TotalComponents+=Soln\n",
    "    if sum(Soln)>0:\n",
    "        pylab.plot(XGrid, Soln,label=r'from $\\pi$',linestyle='-',color='red')\n",
    "    Soln=XArray[NameToID[\"pi_anti\"+NuType]+2]\n",
    "    TotalComponents+=Soln\n",
    "    if sum(Soln)>0:\n",
    "        pylab.plot(XGrid, Soln,linestyle='--',color='red')\n",
    "    Soln=XArray[NameToID[\"k_\"+NuType]+2]\n",
    "    TotalComponents+=Soln\n",
    "    if sum(Soln)>0:\n",
    "        pylab.plot(XGrid, Soln,label=r'from $K$',linestyle='-',color='green')\n",
    "    Soln=XArray[NameToID[\"k_anti\"+NuType]+2]\n",
    "    TotalComponents+=Soln\n",
    "    if sum(Soln)>0:\n",
    "        pylab.plot(XGrid, Soln,linestyle='--',color='green')\n",
    "    Soln=XArray[NameToID[\"obs_\"+NuType]+2]\n",
    "    TotalComponents+=Soln\n",
    "    if sum(Soln)>0:\n",
    "        pylab.plot(XGrid, Soln,label=r'from $\\mu$',linestyle='-',color='orange')\n",
    "    Soln=XArray[NameToID[\"obs_anti\"+NuType]+2]\n",
    "    TotalComponents+=Soln\n",
    "    if sum(Soln)>0:\n",
    "        pylab.plot(XGrid, Soln,linestyle='--',color='orange')\n",
    "    Soln=XArray[NameToID[\"pr_\"+NuType]+2]\n",
    "    TotalComponents+=Soln\n",
    "    if sum(Soln)>0:\n",
    "        pylab.plot(XGrid, Soln,label=r'from prompt',linestyle='-',color='purple')\n",
    "    Soln=XArray[NameToID[\"pr_anti\"+NuType]+2]\n",
    "    TotalComponents+=Soln\n",
    "    if sum(Soln)>0:\n",
    "        pylab.plot(XGrid, Soln,linestyle='--',color='purple')\n",
    "\n",
    "    pylab.plot(XGrid,TotalSoln-TotalComponents,color='grey',label='other')\n",
    "\n",
    "\n",
    "    pylab.loglog()\n",
    "   # pylab.xlim(100,1e4)\n",
    "\n",
    "    pylab.ylim(1e-13,1e-2)\n",
    "\n",
    "    pylab.legend(loc='upper left',title=LabelGuy,fontsize=10)\n",
    "    pylab.xlabel(r\"$X_\\nu$/km\")\n",
    "    plt.ylabel(r\"$\\Phi_{\\nu_{\\tau}}$ (cm$^{2}$ s sr GeV)$^{-1}$\")\n",
    "   # plt.ylim(1e-15,1e-4)\n",
    "    pylab.show()\n",
    "    \n",
    "    "
   ]
  },
  {
   "cell_type": "code",
   "execution_count": 5,
   "metadata": {
    "collapsed": true
   },
   "outputs": [],
   "source": [
    "def MakeMuPlots(FileName,mag=3):\n",
    "    initialmag=2.\n",
    "    mag=float(mag)-initialmag\n",
    "    IDToName,NameToID=MCEqRunF.MakeNameDicts()\n",
    "    \n",
    "    FileNameE=FileName+str(\"_E.txt\")\n",
    "    FileNameX=FileName+str(\"_X.txt\")\n",
    "\n",
    "    EArray=numpy.loadtxt(FileNameE)\n",
    "    XArray=numpy.loadtxt(FileNameX)\n",
    "    \n",
    "    EGrid=EArray[0]\n",
    "    XGrid=XArray[1]/(100.*1000.) #convert to m\n",
    "    \n",
    "    pylab.figure(figsize=(5,5))\n",
    "    TotalSoln=EArray[NameToID[\"total_mu+\"]+1]+EArray[NameToID[\"total_mu-\"]+1]\n",
    "    pylab.plot(EGrid, TotalSoln*pow(EGrid,mag),label=r'Total',linestyle='-',color='black')\n",
    "\n",
    "    TotalComponents=numpy.zeros_like(TotalSoln)\n",
    "    \n",
    "    Soln=EArray[NameToID[\"pi_mu+\"]+1]\n",
    "    TotalComponents+=Soln\n",
    "    if sum(Soln)>0:\n",
    "        pylab.plot(EGrid, Soln*pow(EGrid,mag),label=r'from $\\pi$',linestyle='-',color='red')\n",
    "    Soln=EArray[NameToID[\"pi_mu-\"]+1]\n",
    "    TotalComponents+=Soln\n",
    "    if sum(Soln)>0:\n",
    "        pylab.plot(EGrid, Soln*pow(EGrid,mag),linestyle='--',color='red')\n",
    "    Soln=EArray[NameToID[\"k_mu+\"]+1]\n",
    "    TotalComponents+=Soln\n",
    "    if sum(Soln)>0:\n",
    "        pylab.plot(EGrid, Soln*pow(EGrid,mag),label=r'from $K$',linestyle='-',color='green')\n",
    "    Soln=EArray[NameToID[\"k_mu-\"]+1]\n",
    "    TotalComponents+=Soln\n",
    "    if sum(Soln)>0:\n",
    "        pylab.plot(EGrid, Soln*pow(EGrid,mag),linestyle='--',color='green')\n",
    "    Soln=EArray[NameToID[\"pr_mu+\"]+1]\n",
    "    TotalComponents+=Soln\n",
    "    if sum(Soln)>0:\n",
    "        pylab.plot(EGrid, Soln*pow(EGrid,mag),label=r'from prompt',linestyle='-',color='purple')\n",
    "    Soln=EArray[NameToID[\"pr_mu-\"]+1]\n",
    "    TotalComponents+=Soln\n",
    "    if sum(Soln)>0:\n",
    "        pylab.plot(EGrid, Soln*pow(EGrid,mag),linestyle='--',color='purple')\n",
    "\n",
    "    pylab.plot(EGrid,(TotalSoln-TotalComponents)*pow(EGrid,mag),color='grey',label='other')\n",
    "    pylab.xlabel(r\"$E_\\mu$/GeV\")\n",
    "    plt.ylabel(r\"$\\Phi_{\\mu}$ (E/GeV)$^{\" + str(mag+initialmag) + \"}$ (cm$^{2}$ s sr GeV)$^{-1}$\")\n",
    "    plt.ylim(1e-6,10)\n",
    "    plt.xlim(5e1,1e6)\n",
    "    pylab.loglog()\n",
    "\n",
    "\n",
    "    pylab.show()\n",
    "    \n",
    "    \n",
    "    pylab.figure(figsize=(8,3))\n",
    "    TotalSoln=XArray[NameToID[\"total_mu+\"]+2]+XArray[NameToID[\"total_mu-\"]+2]\n",
    "    pylab.plot(XGrid, TotalSoln,label=r'Total',linestyle='-',color='black')\n",
    "\n",
    "    TotalComponents=numpy.zeros_like(TotalSoln)\n",
    "\n",
    "    Soln=XArray[NameToID[\"pi_mu+\"]+2]\n",
    "    TotalComponents+=Soln\n",
    "    if sum(Soln)>0:\n",
    "        pylab.plot(XGrid, Soln,label=r'from $\\pi$',linestyle='-',color='red')\n",
    "    Soln=XArray[NameToID[\"pi_mu-\"]+2]\n",
    "    TotalComponents+=Soln\n",
    "    if sum(Soln)>0:\n",
    "        pylab.plot(XGrid, Soln,linestyle='--',color='red')\n",
    "    Soln=XArray[NameToID[\"k_mu+\"]+2]\n",
    "    TotalComponents+=Soln\n",
    "    if sum(Soln)>0:\n",
    "        pylab.plot(XGrid, Soln,label=r'from $K$',linestyle='-',color='green')\n",
    "    Soln=XArray[NameToID[\"k_mu-\"]+2]\n",
    "    TotalComponents+=Soln\n",
    "    if sum(Soln)>0:\n",
    "        pylab.plot(XGrid, Soln,linestyle='--',color='green')\n",
    "    Soln=XArray[NameToID[\"pr_mu+\"]+2]\n",
    "    TotalComponents+=Soln\n",
    "    if sum(Soln)>0:\n",
    "        pylab.plot(XGrid, Soln,label=r'from prompt',linestyle='-',color='purple')\n",
    "    Soln=XArray[NameToID[\"pr_mu-\"]+2]\n",
    "    TotalComponents+=Soln\n",
    "    if sum(Soln)>0:\n",
    "        pylab.plot(XGrid, Soln,linestyle='--',color='purple')\n",
    "\n",
    "    pylab.plot(XGrid,TotalSoln-TotalComponents,color='grey',label='other')\n",
    "\n",
    "    pylab.legend(loc='upper left',title=r\"$\\mu^+$ (solid) and $\\mu^-$ (dashed)\")\n",
    "    pylab.loglog()\n",
    "  #  pylab.xlim(1e2,1e4)\n",
    "    pylab.ylim(1e-13,1e-2)\n",
    "    pylab.xlabel(r\"$X_\\nu$/km\")\n",
    "    plt.ylabel(r\"$\\Phi_{\\mu}$ (cm$^{2}$ s sr GeV)$^{-1}$\")\n",
    "    pylab.show()\n",
    "    \n",
    "    "
   ]
  },
  {
   "cell_type": "code",
   "execution_count": 6,
   "metadata": {
    "collapsed": false
   },
   "outputs": [],
   "source": [
    "def CompareSimRuns(FileNames,Origin,NuType,mag=3,Labels=[\"GH&HG H3a\",\"GH&HG H4a\",\"GaisserHonda\",\"HillasGaisser_H3a\",\"HillasGaisser_H4a\",\"PolyGonato\",\"Thunman\"]):\n",
    "    Colors=['red','green','blue','grey','darkred','darkgreen','darkblue','purple']\n",
    "    initialmag=2.\n",
    "    mag=float(mag)-initialmag\n",
    "    pylab.figure(figsize=(5,5))\n",
    "    IDToName,NameToID=MCEqRunF.MakeNameDicts()\n",
    "    \n",
    "    if NuType=='numu':\n",
    "        LabelGuy=r'$\\nu_\\mu$ (solid) and $\\bar \\nu_\\mu $ (dashed)'\n",
    "    elif NuType=='nue':\n",
    "        LabelGuy=r'$\\nu_e$ (solid) and $\\bar \\nu_e$ (dashed)'\n",
    "    elif NuType=='nutau':\n",
    "        LabelGuy=r'$\\nu_\\tau$ (solid) and $\\bar \\nu_\\tau$ (dashed)'\n",
    "    counter=0\n",
    "    for FileName in FileNames:\n",
    "        \n",
    "        FileNameE=FileName+str(\"_E.txt\")\n",
    "        EArray=numpy.loadtxt(FileNameE)\n",
    "    \n",
    "        EGrid=EArray[0]\n",
    "        \n",
    "        Soln=EArray[NameToID[Origin+\"_\"+NuType]+1]\n",
    "        if sum(Soln)>0:\n",
    "            pylab.loglog(EGrid, Soln*pow(EGrid,mag),label=Labels[counter],linestyle='-',color=Colors[counter])\n",
    "        Soln=EArray[NameToID[Origin+\"_anti\"+NuType]+1]\n",
    "        if sum(Soln)>0:\n",
    "            pylab.loglog(EGrid, Soln*pow(EGrid,mag),linestyle='--',color=Colors[counter])\n",
    "\n",
    "        counter=counter+1\n",
    "\n",
    "    \n",
    "    pylab.legend(loc='lower left',title=LabelGuy,fontsize=10)\n",
    "    pylab.xlabel(r\"$E_\\nu$/GeV\")\n",
    "    plt.ylabel(r\"$\\Phi_{\\nu_{\\tau}}$ (E/GeV)$^{\" + str(mag+initialmag) + \"}$ (cm$^{2}$ s sr GeV)$^{-1}$\")\n",
    "    plt.title(\"Production from \"+Origin)\n",
    "    plt.ylim(1e-3,0.2)\n",
    "#    plt.xlim(1e2,1e6)\n",
    "    pylab.show()\n",
    "    \n",
    "    \n",
    "\n",
    "\n"
   ]
  },
  {
   "cell_type": "code",
   "execution_count": 7,
   "metadata": {
    "collapsed": false
   },
   "outputs": [],
   "source": [
    "def MakeChargeRatio(FileName):\n",
    "    pylab.figure(figsize=(5,5))\n",
    "    IDToName,NameToID=MCEqRunF.MakeNameDicts()\n",
    "    \n",
    "    FileNameE=FileName+str(\"_E.txt\")\n",
    "    EArray=numpy.loadtxt(FileNameE)\n",
    "    \n",
    "    EGrid=EArray[0]\n",
    "        \n",
    "    Soln1=EArray[NameToID[\"total_numu\"]+1]\n",
    "    Soln2=EArray[NameToID[\"total_antinumu\"]+1]\n",
    "    if sum(Soln1)>0 and sum(Soln2)>0:\n",
    "        pylab.semilogx(EGrid, Soln1/Soln2,linestyle='-',color='blue',label=r'$\\nu_\\mu$ / $\\bar \\nu_\\mu$')\n",
    "\n",
    "        \n",
    "    Soln1=EArray[NameToID[\"total_nue\"]+1]\n",
    "    Soln2=EArray[NameToID[\"total_antinue\"]+1]\n",
    "    if sum(Soln1)>0 and sum(Soln2)>0:\n",
    "        pylab.semilogx(EGrid, Soln1/Soln2,linestyle='-',color='red',label=r'$\\nu_e$ / $\\bar \\nu_e$')\n",
    "\n",
    "\n",
    "    Soln1=EArray[NameToID[\"total_nutau\"]+1]\n",
    "    Soln2=EArray[NameToID[\"total_antinutau\"]+1]\n",
    "    if sum(Soln1)>0 and sum(Soln2)>0:\n",
    "        pylab.semilogx(EGrid, Soln1/Soln2,linestyle='-',color='green',label=r'$\\nu_\\tau$ / $\\bar \\nu_\\tau$')\n",
    "\n",
    "    Soln1=EArray[NameToID[\"total_mu-\"]+1]\n",
    "    Soln2=EArray[NameToID[\"total_mu+\"]+1]\n",
    "    if sum(Soln1)>0 and sum(Soln2)>0:\n",
    "        pylab.semilogx(EGrid, Soln1/Soln2,linestyle='-',color='purple',label=r'$\\mu^-$ / $\\mu^+$')\n",
    "\n",
    "\n",
    "        \n",
    "        \n",
    "    pylab.legend(loc='lower left',fontsize=10)\n",
    "    pylab.xlabel(r\"$E_\\nu$/GeV\")\n",
    "    plt.ylabel(r\"Flux Ratio\")\n",
    "    plt.ylim(0.9,1.1)\n",
    "    plt.xlim(1e2,1e6)\n",
    "    pylab.show()\n",
    "    \n",
    "    \n",
    "\n"
   ]
  },
  {
   "cell_type": "code",
   "execution_count": 8,
   "metadata": {
    "collapsed": false
   },
   "outputs": [],
   "source": [
    "def CompareSimRuns(FileNames,Origin,NuType,mag=3,Labels=[\"1\",\"2\",\"3\",\"4\"],XOffsets=[100,1000,5000,12388]):\n",
    "    Colors=['red','green','blue','orange','grey','pink','darkred','darkgreen','darkblue','purple']\n",
    "    initialmag=2.\n",
    "    mag=float(mag)-initialmag\n",
    "    pylab.figure(figsize=(5,5))\n",
    "    IDToName,NameToID=MCEqRunF.MakeNameDicts()\n",
    "    \n",
    "    if NuType=='numu':\n",
    "        LabelGuy=r'$\\nu_\\mu$ (solid) and $\\bar \\nu_\\mu $ (dashed)'\n",
    "    elif NuType=='nue':\n",
    "        LabelGuy=r'$\\nu_e$ (solid) and $\\bar \\nu_e$ (dashed)'\n",
    "    elif NuType=='nutau':\n",
    "        LabelGuy=r'$\\nu_\\tau$ (solid) and $\\bar \\nu_\\tau$ (dashed)'\n",
    "    counter=0\n",
    "    for FileName in FileNames:\n",
    "        \n",
    "        FileNameE=FileName+str(\"_E.txt\")\n",
    "        EArray=numpy.loadtxt(FileNameE)\n",
    "    \n",
    "        EGrid=EArray[0]\n",
    "        \n",
    "        Soln=EArray[NameToID[Origin+\"_\"+NuType]+1]\n",
    "        if sum(Soln)>0:\n",
    "            pylab.loglog(EGrid, Soln*pow(EGrid,mag),label=Labels[counter],linestyle='-',color=Colors[counter])\n",
    "        Soln=EArray[NameToID[Origin+\"_anti\"+NuType]+1]\n",
    "        if sum(Soln)>0:\n",
    "            pylab.loglog(EGrid, Soln*pow(EGrid,mag),linestyle='--',color=Colors[counter])\n",
    "\n",
    "        counter=counter+1\n",
    "    \n",
    "    pylab.legend(loc='lower left',title=LabelGuy,fontsize=10)\n",
    "    pylab.xlabel(r\"$E_\\nu$/GeV\")\n",
    "    plt.ylabel(r\"$\\Phi_{\\nu_{\\tau}}$ (E/GeV)$^{\" + str(mag+initialmag) + \"}$ (cm$^{2}$ s sr GeV)$^{-1}$\")\n",
    "    plt.title(\"Production from \"+Origin)\n",
    "    plt.ylim(1e-6,1e-1)\n",
    "    plt.xlim(1e2,1e8)\n",
    "    pylab.show()\n",
    "    \n",
    "    \n"
   ]
  },
  {
   "cell_type": "code",
   "execution_count": 9,
   "metadata": {
    "collapsed": true
   },
   "outputs": [],
   "source": [
    "def MakeIngelThurmanPlots(FileName,NuType='',mag=3):\n",
    "    initialmag=2.\n",
    "    mag=float(mag)-initialmag\n",
    "    IDToName,NameToID=MCEqRunF.MakeNameDicts()\n",
    "    \n",
    "    FileNameE=FileName+str(\"_E.txt\")\n",
    "    FileNameX=FileName+str(\"_X.txt\")\n",
    "\n",
    "    EArray=numpy.loadtxt(FileNameE)\n",
    "    XArray=numpy.loadtxt(FileNameX)\n",
    "    \n",
    "    EGrid=EArray[0]\n",
    "    XGrid=XArray[0]\n",
    "    \n",
    "    pylab.figure(figsize=(5,5))\n",
    "    if NuType=='numu':\n",
    "        LabelGuy=r'$\\nu_\\mu$ (solid) and $\\bar \\nu_\\mu $ (dashed)'\n",
    "    elif NuType=='nue':\n",
    "        LabelGuy=r'$\\nu_e$ (solid) and $\\bar \\nu_e$ (dashed)'\n",
    "    elif NuType=='nutau':\n",
    "        LabelGuy=r'$\\nu_\\tau$ (solid) and $\\bar \\nu_\\tau$ (dashed)'\n",
    "    Soln=EArray[NameToID[\"total_\"+NuType]+1]+EArray[NameToID[\"total_anti\"+NuType]+1]\n",
    "    pylab.loglog(EGrid, Soln*pow(EGrid,mag),label=r'Total',linestyle='-',color='orange',linewidth=2)\n",
    "\n",
    "\n",
    "    Soln=EArray[NameToID[\"pi_\"+NuType]+1]+EArray[NameToID[\"pi_anti\"+NuType]+1]\n",
    "    if sum(Soln)>0:\n",
    "        pylab.loglog(EGrid, Soln*pow(EGrid,mag),label=r'from $\\pi$',linestyle='-',color='red')\n",
    "\n",
    "    Soln=EArray[NameToID[\"k_\"+NuType]+1]+EArray[NameToID[\"k_anti\"+NuType]+1]\n",
    "    if sum(Soln)>0:\n",
    "        pylab.loglog(EGrid, Soln*pow(EGrid,mag),label=r'from $K$',linestyle='--',color='green')\n",
    "    Soln=EArray[NameToID[\"obs_\"+NuType]+1]+EArray[NameToID[\"obs_anti\"+NuType]+1]\n",
    "    if sum(Soln)>0:\n",
    "        pylab.loglog(EGrid, Soln*pow(EGrid,mag),label=r'from $\\mu$',linestyle='-',color='blue')\n",
    "\n",
    "    Soln=EArray[NameToID[\"pr_\"+NuType]+1]+EArray[NameToID[\"pr_anti\"+NuType]+1]\n",
    "    if sum(Soln)>0:\n",
    "        pylab.loglog(EGrid, Soln*pow(EGrid,mag),label=r'from prompt',linestyle='-',color='purple')\n",
    "    pylab.legend(loc='upper right',title=LabelGuy,fontsize=10)\n",
    "    pylab.xlabel(r\"$E_\\nu$/GeV\")\n",
    "    plt.ylabel(r\"$\\Phi_{\\nu_{\\tau}}$ (E/GeV)$^{\" + str(mag+initialmag) + \"}$ (cm$^{2}$ s sr GeV)$^{-1}$\")\n",
    "    plt.ylim(2e-4,2)\n",
    "    plt.xlim(100,1e8)\n",
    "    pylab.show()"
   ]
  },
  {
   "cell_type": "code",
   "execution_count": 10,
   "metadata": {
    "collapsed": false
   },
   "outputs": [
    {
     "data": {
      "text/plain": [
       "array([[ 0.        ,  0.        ,  0.        ,  1.        ],\n",
       "       [ 0.16470588,  0.        ,  0.        ,  1.        ],\n",
       "       [ 0.32941176,  0.        ,  0.        ,  1.        ],\n",
       "       [ 0.5       ,  0.        ,  0.        ,  1.        ],\n",
       "       [ 0.66470588,  0.        ,  0.        ,  1.        ],\n",
       "       [ 0.83529412,  0.11372549,  0.        ,  1.        ],\n",
       "       [ 1.        ,  0.33333333,  0.        ,  1.        ],\n",
       "       [ 1.        ,  0.56078431,  0.12156863,  1.        ],\n",
       "       [ 1.        ,  0.78039216,  0.56078431,  1.        ],\n",
       "       [ 1.        ,  1.        ,  1.        ,  1.        ]])"
      ]
     },
     "execution_count": 10,
     "metadata": {},
     "output_type": "execute_result"
    }
   ],
   "source": [
    "cmap = plt.get_cmap('gist_heat')\n",
    "\n",
    "\n",
    "cmap(numpy.linspace(0,1,10))"
   ]
  },
  {
   "cell_type": "code",
   "execution_count": 11,
   "metadata": {
    "collapsed": false
   },
   "outputs": [],
   "source": [
    "def CompareSimRunsRatio(FileNames,Origin,NuType,Name=\"$\\pi$\",ylims=[0.8,1.8],colmap='gist_heat',labels=None):\n",
    "    cmap = plt.get_cmap(colmap)\n",
    "    Colors=cmap(numpy.linspace(0,0.9,len(FileNames)))\n",
    "    if labels==None:\n",
    "        TheLabels=numpy.zeros_like(FileNames)\n",
    "    else:\n",
    "        TheLabels=labels\n",
    "    initialmag=2.\n",
    "    pylab.figure(figsize=(5,5))\n",
    "    IDToName,NameToID=MCEqRunF.MakeNameDicts()\n",
    "\n",
    "    counter=0\n",
    "    if NuType=='mu':\n",
    "        NuType='mu-'\n",
    "        AntiNuType='_mu+'\n",
    "    else:\n",
    "        AntiNuType=\"_anti\"+NuType\n",
    "\n",
    "    for FileName in FileNames:\n",
    "        \n",
    "        \n",
    "        FileNameE=FileName+str(\"_E.txt\")\n",
    "        EArray=numpy.loadtxt(FileNameE)\n",
    "    \n",
    "        EGrid=EArray[0]\n",
    "        \n",
    "        Soln=EArray[NameToID[Origin+\"_\"+NuType]+1]\n",
    "        if counter==0:\n",
    "            DenominatorNu=Soln\n",
    "        if sum(Soln)>0:\n",
    "            pylab.semilogx(EGrid, numpy.array(Soln)/numpy.array(DenominatorNu),linestyle='-',color=Colors[counter],label=TheLabels[counter])\n",
    "        Soln=EArray[NameToID[Origin+AntiNuType]+1]\n",
    "        if counter==0:\n",
    "            DenominatorNuBar=Soln\n",
    "        if sum(Soln)>0:\n",
    "            pylab.semilogx(EGrid, numpy.array(Soln)/numpy.array(DenominatorNuBar),linestyle='--',color=Colors[counter])\n",
    "\n",
    "\n",
    "        counter=counter+1\n",
    "       \n",
    "  \n",
    " \n",
    "  #pylab.legend(title=\"Impact parameter:\", bbox_to_anchor=(0., 1.02, 1., .102),loc=3, ncol=10, mode=\"expand\", borderaxespad=0., fontsize=6)\n",
    "    pylab.xlabel(r\"$E_\\nu$/GeV\")\n",
    "    plt.ylabel(r\"Flux Ratio\")\n",
    "    plt.title(Name)\n",
    "    plt.ylim(ylims[0],ylims[1])\n",
    "    plt.xlim(5e1,1e6)\n",
    "    if labels!=None:\n",
    "        pylab.legend(loc='upper left',fontsize=10)\n",
    "    pylab.show()\n",
    "    \n",
    "    \n"
   ]
  },
  {
   "cell_type": "code",
   "execution_count": 13,
   "metadata": {
    "collapsed": false
   },
   "outputs": [
    {
     "ename": "IOError",
     "evalue": "[Errno 2] No such file or directory: '/Users/jonesb/Documents/Work/SolarAtmosphere/MuonTests/HybridModel/flux_0.0_b0.0000_corrected_E.txt'",
     "output_type": "error",
     "traceback": [
      "\u001b[0;31m---------------------------------------------------------------------------\u001b[0m",
      "\u001b[0;31mIOError\u001b[0m                                   Traceback (most recent call last)",
      "\u001b[0;32m<ipython-input-13-00a0ecc1b91c>\u001b[0m in \u001b[0;36m<module>\u001b[0;34m()\u001b[0m\n\u001b[1;32m      1\u001b[0m \u001b[0mFileName\u001b[0m\u001b[0;34m=\u001b[0m\u001b[0;34m\"/Users/jonesb/Documents/Work/SolarAtmosphere/MuonTests/HybridModel/flux_0.0_b0.0000_corrected\"\u001b[0m\u001b[0;34m\u001b[0m\u001b[0m\n\u001b[0;32m----> 2\u001b[0;31m \u001b[0mMakePiKPromptPlots\u001b[0m\u001b[0;34m(\u001b[0m\u001b[0mFileName\u001b[0m\u001b[0;34m,\u001b[0m\u001b[0;34m\"numu\"\u001b[0m\u001b[0;34m,\u001b[0m\u001b[0mmag\u001b[0m\u001b[0;34m=\u001b[0m\u001b[0;36m3\u001b[0m\u001b[0;34m)\u001b[0m\u001b[0;34m\u001b[0m\u001b[0m\n\u001b[0m\u001b[1;32m      3\u001b[0m \u001b[0mMakePiKPromptPlots\u001b[0m\u001b[0;34m(\u001b[0m\u001b[0mFileName\u001b[0m\u001b[0;34m,\u001b[0m\u001b[0;34m\"nue\"\u001b[0m\u001b[0;34m,\u001b[0m\u001b[0mmag\u001b[0m\u001b[0;34m=\u001b[0m\u001b[0;36m3\u001b[0m\u001b[0;34m)\u001b[0m\u001b[0;34m\u001b[0m\u001b[0m\n\u001b[1;32m      4\u001b[0m \u001b[0mMakePiKPromptPlots\u001b[0m\u001b[0;34m(\u001b[0m\u001b[0mFileName\u001b[0m\u001b[0;34m,\u001b[0m\u001b[0;34m\"nutau\"\u001b[0m\u001b[0;34m,\u001b[0m\u001b[0mmag\u001b[0m\u001b[0;34m=\u001b[0m\u001b[0;36m3\u001b[0m\u001b[0;34m)\u001b[0m\u001b[0;34m\u001b[0m\u001b[0m\n",
      "\u001b[0;32m<ipython-input-4-58b2f58ce3ab>\u001b[0m in \u001b[0;36mMakePiKPromptPlots\u001b[0;34m(FileName, NuType, mag)\u001b[0m\n\u001b[1;32m      7\u001b[0m     \u001b[0mFileNameX\u001b[0m\u001b[0;34m=\u001b[0m\u001b[0mFileName\u001b[0m\u001b[0;34m+\u001b[0m\u001b[0mstr\u001b[0m\u001b[0;34m(\u001b[0m\u001b[0;34m\"_X.txt\"\u001b[0m\u001b[0;34m)\u001b[0m\u001b[0;34m\u001b[0m\u001b[0m\n\u001b[1;32m      8\u001b[0m \u001b[0;34m\u001b[0m\u001b[0m\n\u001b[0;32m----> 9\u001b[0;31m     \u001b[0mEArray\u001b[0m\u001b[0;34m=\u001b[0m\u001b[0mnumpy\u001b[0m\u001b[0;34m.\u001b[0m\u001b[0mloadtxt\u001b[0m\u001b[0;34m(\u001b[0m\u001b[0mFileNameE\u001b[0m\u001b[0;34m)\u001b[0m\u001b[0;34m\u001b[0m\u001b[0m\n\u001b[0m\u001b[1;32m     10\u001b[0m     \u001b[0mXArray\u001b[0m\u001b[0;34m=\u001b[0m\u001b[0mnumpy\u001b[0m\u001b[0;34m.\u001b[0m\u001b[0mloadtxt\u001b[0m\u001b[0;34m(\u001b[0m\u001b[0mFileNameX\u001b[0m\u001b[0;34m)\u001b[0m\u001b[0;34m\u001b[0m\u001b[0m\n\u001b[1;32m     11\u001b[0m \u001b[0;34m\u001b[0m\u001b[0m\n",
      "\u001b[0;32m/Users/jonesb/.env/lib/python2.7/site-packages/numpy/lib/npyio.pyc\u001b[0m in \u001b[0;36mloadtxt\u001b[0;34m(fname, dtype, comments, delimiter, converters, skiprows, usecols, unpack, ndmin)\u001b[0m\n\u001b[1;32m    799\u001b[0m                 \u001b[0mfh\u001b[0m \u001b[0;34m=\u001b[0m \u001b[0miter\u001b[0m\u001b[0;34m(\u001b[0m\u001b[0mbz2\u001b[0m\u001b[0;34m.\u001b[0m\u001b[0mBZ2File\u001b[0m\u001b[0;34m(\u001b[0m\u001b[0mfname\u001b[0m\u001b[0;34m)\u001b[0m\u001b[0;34m)\u001b[0m\u001b[0;34m\u001b[0m\u001b[0m\n\u001b[1;32m    800\u001b[0m             \u001b[0;32melif\u001b[0m \u001b[0msys\u001b[0m\u001b[0;34m.\u001b[0m\u001b[0mversion_info\u001b[0m\u001b[0;34m[\u001b[0m\u001b[0;36m0\u001b[0m\u001b[0;34m]\u001b[0m \u001b[0;34m==\u001b[0m \u001b[0;36m2\u001b[0m\u001b[0;34m:\u001b[0m\u001b[0;34m\u001b[0m\u001b[0m\n\u001b[0;32m--> 801\u001b[0;31m                 \u001b[0mfh\u001b[0m \u001b[0;34m=\u001b[0m \u001b[0miter\u001b[0m\u001b[0;34m(\u001b[0m\u001b[0mopen\u001b[0m\u001b[0;34m(\u001b[0m\u001b[0mfname\u001b[0m\u001b[0;34m,\u001b[0m \u001b[0;34m'U'\u001b[0m\u001b[0;34m)\u001b[0m\u001b[0;34m)\u001b[0m\u001b[0;34m\u001b[0m\u001b[0m\n\u001b[0m\u001b[1;32m    802\u001b[0m             \u001b[0;32melse\u001b[0m\u001b[0;34m:\u001b[0m\u001b[0;34m\u001b[0m\u001b[0m\n\u001b[1;32m    803\u001b[0m                 \u001b[0mfh\u001b[0m \u001b[0;34m=\u001b[0m \u001b[0miter\u001b[0m\u001b[0;34m(\u001b[0m\u001b[0mopen\u001b[0m\u001b[0;34m(\u001b[0m\u001b[0mfname\u001b[0m\u001b[0;34m)\u001b[0m\u001b[0;34m)\u001b[0m\u001b[0;34m\u001b[0m\u001b[0m\n",
      "\u001b[0;31mIOError\u001b[0m: [Errno 2] No such file or directory: '/Users/jonesb/Documents/Work/SolarAtmosphere/MuonTests/HybridModel/flux_0.0_b0.0000_corrected_E.txt'"
     ]
    }
   ],
   "source": [
    "FileName=\"/Users/jonesb/Documents/Work/SolarAtmosphere/MuonTests/HybridModel/flux_0.0_b0.0000_corrected\"\n",
    "MakePiKPromptPlots(FileName,\"numu\",mag=3)\n",
    "MakePiKPromptPlots(FileName,\"nue\",mag=3)\n",
    "MakePiKPromptPlots(FileName,\"nutau\",mag=3)"
   ]
  },
  {
   "cell_type": "code",
   "execution_count": null,
   "metadata": {
    "collapsed": false
   },
   "outputs": [],
   "source": [
    "CompareSimRuns([\"../OutputsFromGrid/HybridModel_SIBYLL2.3_CombinedGHAndHG_H3a/flux_0.0_b0.0000\",\"../OutputsFromGrid/IngelmanThurmanAtmosphere_SIBYLL2.3_CombinedGHAndHG_H3a/flux_0.0_b0.0000\"],'total','nue')\n",
    "CompareSimRuns([\"../OutputsFromGrid/HybridModel_SIBYLL2.3_CombinedGHAndHG_H3a/flux_0.0_b0.0000\",\"../OutputsFromGrid/IngelmanThurmanAtmosphere_SIBYLL2.3_CombinedGHAndHG_H3a/flux_0.0_b0.0000\"],'total','numu')\n",
    "CompareSimRuns([\"../OutputsFromGrid/HybridModel_SIBYLL2.3_CombinedGHAndHG_H3a/flux_0.0_b0.0000\",\"../OutputsFromGrid/IngelmanThurmanAtmosphere_SIBYLL2.3_CombinedGHAndHG_H3a/flux_0.0_b0.0000\"],'total','nutau')\n",
    "#CompareSimRuns([\"../OutputsFromGrid/HybridModel_SIBYLL2.3_CombinedGHAndHG_H3a/flux_0.0_b0.0000\",\"../OutputsFromGrid/IngelmanThurmanAtmosphere_SIBYLL2.3_CombinedGHAndHG_H3a/flux_0.0_b0.0000\"],'total','mu')"
   ]
  },
  {
   "cell_type": "code",
   "execution_count": null,
   "metadata": {
    "collapsed": false
   },
   "outputs": [],
   "source": [
    "PrimaryModels=[\"CombinedGHAndHG_H3a\",\"HillasGaisser_H3a\",\"GaisserHonda\",\"PolyGonato\",\"Thunman\",\"ZatsepinSokolskaya\"]\n",
    "Atmospheres=[\"HybridModel\",\"IngelmanThurmanAtmosphere\"]\n",
    "HadronicModels=[\"SIBYLL2.3\",\"QGSJET-II-03\",\"SIBYLL2.1\",\"EPOS-LHC\"]"
   ]
  },
  {
   "cell_type": "code",
   "execution_count": null,
   "metadata": {
    "collapsed": false,
    "scrolled": false
   },
   "outputs": [],
   "source": [
    "FileNames=[]\n",
    "for i in range(0,9):\n",
    "    String=\"../OutputsFromGrid/HybridModel_SIBYLL2.3_CombinedGHAndHG_H3a/flux_0.\"+str(i)+\"_b0.\"+str(i)+\"000\"\n",
    "    FileNames.append(String)"
   ]
  },
  {
   "cell_type": "code",
   "execution_count": null,
   "metadata": {
    "collapsed": false
   },
   "outputs": [],
   "source": [
    "CompareSimRunsRatio(FileNames,\"total\",\"numu\",r\"$\\nu_\\mu$ (solid) and $\\bar{\\nu}_\\mu$ (dashed) production\",[0.95,1.4])\n",
    "CompareSimRunsRatio(FileNames,\"total\",\"nue\",r\"$\\nu_e$ (solid) and $\\bar{\\nu}_e$ (dashed) production\",[0.95,1.4])\n",
    "CompareSimRunsRatio(FileNames,\"total\",\"nutau\",r\"$\\nu_\\tau$ (solid) and $\\bar{\\nu}_\\tau$ (dashed) production\",[0.98,1.002])\n",
    "CompareSimRunsRatio(FileNames,\"total\",\"mu\",r\"$\\mu^-$ (solid) and $\\mu^+$ (dashed) production\",[0.94,1.5])\n",
    "\n",
    "\n",
    "\n"
   ]
  },
  {
   "cell_type": "code",
   "execution_count": null,
   "metadata": {
    "collapsed": false
   },
   "outputs": [],
   "source": [
    "PrimaryFileNames=[]\n",
    "for prim in PrimaryModels:\n",
    "    PrimaryFileNames.append(\"../OutputsFromGrid/HybridModel_SIBYLL2.3_\"+prim+\"/flux_0.0_b0.0000\")\n",
    "AtmFileNames=[]\n",
    "for atm in Atmospheres:\n",
    "    AtmFileNames.append(\"../OutputsFromGrid/\"+atm+\"_SIBYLL2.3_CombinedGHAndHG_H3a/flux_0.0_b0.0000\")\n",
    "HadFileNames=[]\n",
    "for had in HadronicModels:\n",
    "    HadFileNames.append(\"../OutputsFromGrid/HybridModel_\"+had+\"_CombinedGHAndHG_H3a/flux_0.0_b0.0000\")"
   ]
  },
  {
   "cell_type": "code",
   "execution_count": null,
   "metadata": {
    "collapsed": false,
    "scrolled": true
   },
   "outputs": [],
   "source": [
    "CompareSimRunsRatio(PrimaryFileNames,\"total\",\"numu\",r\"$\\nu_\\mu$ (solid) and $\\bar{\\nu}_\\mu$ (dashed) production\",[0.5,2],colmap='nipy_spectral',labels=PrimaryModels)\n",
    "CompareSimRunsRatio(PrimaryFileNames,\"total\",\"nue\",r\"$\\nu_e$ (solid) and $\\bar{\\nu}_e$ (dashed) production\",[0.5,2],colmap='nipy_spectral',labels=PrimaryModels)\n",
    "CompareSimRunsRatio(PrimaryFileNames,\"total\",\"nutau\",r\"$\\nu_\\tau$ (solid) and $\\bar{\\nu}_\\tau$ (dashed) production\",[0.5,2],colmap='nipy_spectral',labels=PrimaryModels)\n"
   ]
  },
  {
   "cell_type": "code",
   "execution_count": null,
   "metadata": {
    "collapsed": false
   },
   "outputs": [],
   "source": [
    "CompareSimRunsRatio(AtmFileNames,\"total\",\"numu\",r\"$\\nu_\\mu$ (solid) and $\\bar{\\nu}_\\mu$ (dashed) production\",[0.8,1.2],colmap='nipy_spectral',labels=Atmospheres)\n",
    "CompareSimRunsRatio(AtmFileNames,\"total\",\"nue\",r\"$\\nu_e$ (solid) and $\\bar{\\nu}_e$ (dashed) production\",[0.8,1.2],colmap='nipy_spectral',labels=Atmospheres)\n",
    "CompareSimRunsRatio(AtmFileNames,\"total\",\"nutau\",r\"$\\nu_\\tau$ (solid) and $\\bar{\\nu}_\\tau$ (dashed) production\",[0.8,1.2],colmap='nipy_spectral',labels=Atmospheres)\n",
    "\n",
    "\n"
   ]
  },
  {
   "cell_type": "code",
   "execution_count": null,
   "metadata": {
    "collapsed": false
   },
   "outputs": [],
   "source": [
    "CompareSimRunsRatio(HadFileNames,\"total\",\"numu\",r\"$\\nu_\\mu$ (solid) and $\\bar{\\nu}_\\mu$ (dashed) production\",[0.3,1.5],colmap='nipy_spectral',labels=HadronicModels)\n",
    "CompareSimRunsRatio(HadFileNames,\"total\",\"nue\",r\"$\\nu_e$ (solid) and $\\bar{\\nu}_e$ (dashed) production\",[0.3,1.5],colmap='nipy_spectral',labels=HadronicModels)\n",
    "CompareSimRunsRatio(HadFileNames,\"total\",\"nutau\",r\"$\\nu_\\tau$ (solid) and $\\bar{\\nu}_\\tau$ (dashed) production\",[0.3,1.5],colmap='nipy_spectral',labels=HadronicModels)\n",
    "\n",
    "\n"
   ]
  },
  {
   "cell_type": "code",
   "execution_count": null,
   "metadata": {
    "collapsed": true
   },
   "outputs": [],
   "source": []
  },
  {
   "cell_type": "code",
   "execution_count": null,
   "metadata": {
    "collapsed": false
   },
   "outputs": [],
   "source": [
    "CompareSimRunsRatio(FileNames,\"total\",\"numu\",r\"$\\nu_\\mu$ (solid) and $\\bar{\\nu}_\\mu$ (dashed) production\",[0.5,2])\n",
    "CompareSimRunsRatio(FileNames,\"total\",\"nue\",r\"$\\nu_e$ (solid) and $\\bar{\\nu}_e$ (dashed) production\",[0.5,2])\n",
    "CompareSimRunsRatio(FileNames,\"total\",\"nutau\",r\"$\\nu_\\tau$ (solid) and $\\bar{\\nu}_\\tau$ (dashed) production\",[0.5,2])\n",
    "\n"
   ]
  },
  {
   "cell_type": "code",
   "execution_count": null,
   "metadata": {
    "collapsed": false
   },
   "outputs": [],
   "source": [
    "MakeMuPlots(\"../OutputsFromGrid/HybridModel_SIBYLL2.3_CombinedGHAndHG_H3a/flux_0.0_b0.0000\",mag=3)"
   ]
  },
  {
   "cell_type": "code",
   "execution_count": null,
   "metadata": {
    "collapsed": false
   },
   "outputs": [],
   "source": [
    "CompareSimRuns(FileNames,\"total\",\"numu\",3)\n",
    "CompareSimRuns(FileNames,\"total\",\"nue\",3)\n",
    "CompareSimRuns(FileNames,\"total\",\"nutau\",3)\n",
    "\n"
   ]
  },
  {
   "cell_type": "code",
   "execution_count": null,
   "metadata": {
    "collapsed": false
   },
   "outputs": [],
   "source": [
    "FileName=\"../Outputs/IngelmanThurmanAtmosphere_SIBYLL2.3_Thunman/flux_0.0_b0.0000\"\n",
    "MakeIngelThurmanPlots(FileName,\"numu\",mag=3)\n",
    "#MakeIngelThurmanPlots(FileName,\"nue\",mag=3)\n",
    "#MakeIngelThurmanPlots(FileName,\"nutau\",mag=3)\n",
    "FileName=\"../Outputs/IngelmanThurmanAtmosphere_SIBYLL2.1_Thunman/flux_0.0_b0.0000\"\n",
    "MakeIngelThurmanPlots(FileName,\"numu\",mag=3)\n",
    "#MakeIngelThurmanPlots(FileName,\"nue\",mag=3)\n",
    "#MakeIngelThurmanPlots(FileName,\"nutau\",mag=3)\n",
    "\n",
    "\n",
    "FileName=\"../Outputs/IngelmanThurmanAtmosphere_QGSJET-II-04_Thunman/flux_0.0_b0.0000\"\n",
    "MakeIngelThurmanPlots(FileName,\"numu\",mag=3)\n",
    "#MakeIngelThurmanPlots(FileName,\"nue\",mag=3)\n",
    "#MakeIngelThurmanPlots(FileName,\"nutau\",mag=3)\n",
    "\n",
    "FileName=\"../Outputs/IngelmanThurmanAtmosphere_EPOS-LHC_Thunman/flux_0.0_b0.0000\"\n",
    "MakeIngelThurmanPlots(FileName,\"numu\",mag=3)\n",
    "#MakeIngelThurmanPlots(FileName,\"nue\",mag=3)\n",
    "#MakeIngelThurmanPlots(FileName,\"nutau\",mag=3)\n",
    "\n",
    "\n",
    "FileName=\"../flux_0.0_b0.0000\"\n",
    "MakeIngelThurmanPlots(FileName,\"numu\",mag=3)"
   ]
  },
  {
   "cell_type": "code",
   "execution_count": null,
   "metadata": {
    "collapsed": false
   },
   "outputs": [],
   "source": [
    "MakeChargeRatio(\"../OutputsFromGrid/HybridModel_SIBYLL2.3_CombinedGHAndHG_H3a/flux_0.0_b0.0000\")\n",
    "MakeChargeRatio(\"../OutputsFromGrid/HybridModel_SIBYLL2.3_CombinedGHAndHG_H3a/flux_0.9_b0.9000\")"
   ]
  },
  {
   "cell_type": "code",
   "execution_count": null,
   "metadata": {
    "collapsed": false
   },
   "outputs": [],
   "source": [
    "FileName=\"../flux_0.0_b0.0000\"\n",
    "MakeIngelThurmanPlots(FileName,\"numu\",mag=3)"
   ]
  },
  {
   "cell_type": "code",
   "execution_count": null,
   "metadata": {
    "collapsed": true
   },
   "outputs": [],
   "source": []
  },
  {
   "cell_type": "code",
   "execution_count": null,
   "metadata": {
    "collapsed": true
   },
   "outputs": [],
   "source": []
  },
  {
   "cell_type": "code",
   "execution_count": null,
   "metadata": {
    "collapsed": true
   },
   "outputs": [],
   "source": []
  },
  {
   "cell_type": "code",
   "execution_count": null,
   "metadata": {
    "collapsed": true
   },
   "outputs": [],
   "source": []
  },
  {
   "cell_type": "code",
   "execution_count": null,
   "metadata": {
    "collapsed": true
   },
   "outputs": [],
   "source": []
  }
 ],
 "metadata": {
  "kernelspec": {
   "display_name": "Python 2",
   "language": "python",
   "name": "python2"
  },
  "language_info": {
   "codemirror_mode": {
    "name": "ipython",
    "version": 2
   },
   "file_extension": ".py",
   "mimetype": "text/x-python",
   "name": "python",
   "nbconvert_exporter": "python",
   "pygments_lexer": "ipython2",
   "version": "2.7.11"
  }
 },
 "nbformat": 4,
 "nbformat_minor": 0
}
