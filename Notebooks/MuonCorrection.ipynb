{
 "cells": [
  {
   "cell_type": "code",
   "execution_count": 2,
   "metadata": {
    "collapsed": true
   },
   "outputs": [],
   "source": [
    "import numpy\n",
    "import pylab\n",
    "import MCEqRunF\n",
    "from MuonCorrectionFunctions import *"
   ]
  },
  {
   "cell_type": "code",
   "execution_count": 6,
   "metadata": {
    "collapsed": true
   },
   "outputs": [],
   "source": [
    "InFileName=\"/Users/jonesb/Documents/Work/SolarAtmosphere/Outputs/Shorter/flux_0.0_b0.0000_E.txt\"\n",
    "OutFileName=\"/Users/jonesb/Documents/Work/SolarAtmosphere/OutputsCorrected/Shorter/flux_0.0_b0.0000_corrected_E.txt\""
   ]
  },
  {
   "cell_type": "code",
   "execution_count": 7,
   "metadata": {
    "collapsed": false
   },
   "outputs": [],
   "source": [
    "b=0\n",
    "EArray=numpy.loadtxt(InFileName)\n",
    "EGrid=EArray[0]\n",
    "IDToName,NameToID=MCEqRunF.MakeNameDicts()\n",
    "\n",
    "f=open(\"ELossFunction.pkl\",'rb')\n",
    "ELossFunction=pickle.load(f)\n",
    "f.close()\n",
    "\n",
    "f=open(\"DensityFunctionLonger.pkl\",'rb')\n",
    "DensityFunction=pickle.load(f)\n",
    "f.close()\n",
    "\n",
    "nueflux, numuflux, nuebarflux, numubarflux = GetExtraMuonsComponentWithELoss(InFileName,EGrid,DensityFunction,ELossFunction,b=b)\n",
    "\n",
    "for i in range(0, len(EGrid)):\n",
    "    EArray[NameToID[\"obs_numu\"]+1][i]       = EArray[NameToID[\"obs_numu\"]+1][i]       +numuflux[i]\n",
    "    EArray[NameToID[\"obs_antinumu\"]+1][i]   = EArray[NameToID[\"obs_antinumu\"]+1][i]   +numubarflux[i]\n",
    "    EArray[NameToID[\"obs_nue\"]+1][i]        = EArray[NameToID[\"obs_nue\"]+1][i]        +nueflux[i]\n",
    "    EArray[NameToID[\"obs_antinue\"]+1][i]    = EArray[NameToID[\"obs_antinue\"]+1][i]    +nuebarflux[i]\n",
    "    EArray[NameToID[\"total_numu\"]+1][i]     = EArray[NameToID[\"total_numu\"]+1][i]     +numuflux[i]\n",
    "    EArray[NameToID[\"total_antinumu\"]+1][i] = EArray[NameToID[\"total_antinumu\"]+1][i] +numubarflux[i]\n",
    "    EArray[NameToID[\"total_nue\"]+1][i]      = EArray[NameToID[\"total_nue\"]+1][i]      +nueflux[i]\n",
    "    EArray[NameToID[\"total_antinue\"]+1][i]  = EArray[NameToID[\"total_antinue\"]+1][i]  +nuebarflux[i]\n",
    "\n",
    "\n",
    "\n",
    "    for source in ['conv_','pr_','total_','pi_','k_','obs_']:\n",
    "        EArray[NameToID[source+\"mu+\"]+1][i]=0\n",
    "        EArray[NameToID[source+\"mu-\"]+1][i]=0\n",
    "numpy.savetxt(OutFileName, EArray)\n"
   ]
  },
  {
   "cell_type": "code",
   "execution_count": 20,
   "metadata": {
    "collapsed": true
   },
   "outputs": [],
   "source": [
    "import os"
   ]
  },
  {
   "cell_type": "code",
   "execution_count": 9,
   "metadata": {
    "collapsed": false
   },
   "outputs": [
    {
     "name": "stdout",
     "output_type": "stream",
     "text": [
      "False\n"
     ]
    }
   ],
   "source": [
    "\n",
    "print \"Shorter\" in \"HybridModelSorter\""
   ]
  },
  {
   "cell_type": "code",
   "execution_count": null,
   "metadata": {
    "collapsed": true
   },
   "outputs": [],
   "source": []
  }
 ],
 "metadata": {
  "kernelspec": {
   "display_name": "Python 2",
   "language": "python",
   "name": "python2"
  },
  "language_info": {
   "codemirror_mode": {
    "name": "ipython",
    "version": 2
   },
   "file_extension": ".py",
   "mimetype": "text/x-python",
   "name": "python",
   "nbconvert_exporter": "python",
   "pygments_lexer": "ipython2",
   "version": "2.7.11"
  }
 },
 "nbformat": 4,
 "nbformat_minor": 0
}
