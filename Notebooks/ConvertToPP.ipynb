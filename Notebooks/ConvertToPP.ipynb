{
 "cells": [
  {
   "cell_type": "code",
   "execution_count": 8,
   "metadata": {
    "collapsed": false
   },
   "outputs": [
    {
     "name": "stdout",
     "output_type": "stream",
     "text": [
      "The autoreload extension is already loaded. To reload it, use:\n",
      "  %reload_ext autoreload\n"
     ]
    }
   ],
   "source": [
    "%load_ext autoreload\n",
    "%matplotlib inline\n",
    "%autoreload 2\n",
    "import pylab\n",
    "import matplotlib\n",
    "import matplotlib.pyplot as plt\n",
    "plt.rc(\"savefig\", dpi=500)\n",
    "import numpy\n",
    "\n",
    "MCEqPath=\"/Users/jonesb/Documents/Work/SolarAtmosphere/MCEq\"\n",
    "\n",
    "\n",
    "import os\n",
    "import sys\n",
    "from os.path import join\n",
    "os.chdir(MCEqPath)\n",
    "sys.path.append(MCEqPath+\"/MCEqRunner\")\n",
    "plt.rc(\"savefig\", dpi=200)\n",
    "import scipy\n",
    "from scipy import interpolate\n",
    "\n",
    "\n",
    "import MCEqRunF"
   ]
  },
  {
   "cell_type": "code",
   "execution_count": 16,
   "metadata": {
    "collapsed": true
   },
   "outputs": [],
   "source": [
    "MCEqPath=\"/Users/jonesb/Documents/Work/SolarAtmosphere/MCEq\"\n",
    "\n",
    "BasePPFlux=\"/Users/jonesb/Documents/Work/SolarAtmosphere/OutputsCorrected/HybridModel_SIBYLL2.3_pp_HillasGaisser_H4a/\"\n",
    "BasePAFlux=\"/Users/jonesb/Documents/Work/SolarAtmosphere/OutputsCorrected/HybridModel_SIBYLL2.3_CombinedGHAndHG_H3a\"\n",
    "\n",
    "InDir=\"../OutputsCorrected/\"\n"
   ]
  },
  {
   "cell_type": "code",
   "execution_count": 17,
   "metadata": {
    "collapsed": false
   },
   "outputs": [],
   "source": [
    "IDToName,NameToID=MCEqRunF.MakeNameDicts()\n",
    "FN=lambda atm, had, prim, b: InDir+atm+\"_\"+had+\"_\"+prim+\"/flux_0.\"+str(b)+\"_b0.\"+str(b)+\"000_E.txt\"\n",
    "DN=lambda atm, had, prim: InDir+atm+\"_\"+had+\"_\"+prim"
   ]
  },
  {
   "cell_type": "code",
   "execution_count": 18,
   "metadata": {
    "collapsed": false
   },
   "outputs": [
    {
     "ename": "IOError",
     "evalue": "[Errno 2] No such file or directory: '../OutputsCorrected/HybridModel_SIBYLL2.3_pp_HillasGaisser_H3a/flux_0.0.0_b0.0.0000_E.txt'",
     "output_type": "error",
     "traceback": [
      "\u001b[0;31m---------------------------------------------------------------------------\u001b[0m",
      "\u001b[0;31mIOError\u001b[0m                                   Traceback (most recent call last)",
      "\u001b[0;32m<ipython-input-18-409784676beb>\u001b[0m in \u001b[0;36m<module>\u001b[0;34m()\u001b[0m\n\u001b[1;32m      8\u001b[0m \u001b[0;32mfor\u001b[0m \u001b[0mbi\u001b[0m \u001b[0;32min\u001b[0m \u001b[0mrange\u001b[0m\u001b[0;34m(\u001b[0m\u001b[0;36m0\u001b[0m\u001b[0;34m,\u001b[0m\u001b[0;36m10\u001b[0m\u001b[0;34m)\u001b[0m\u001b[0;34m:\u001b[0m\u001b[0;34m\u001b[0m\u001b[0m\n\u001b[1;32m      9\u001b[0m     \u001b[0mb\u001b[0m\u001b[0;34m=\u001b[0m\u001b[0mfloat\u001b[0m\u001b[0;34m(\u001b[0m\u001b[0mbi\u001b[0m\u001b[0;34m)\u001b[0m\u001b[0;34m/\u001b[0m\u001b[0;36m10.\u001b[0m\u001b[0;34m\u001b[0m\u001b[0m\n\u001b[0;32m---> 10\u001b[0;31m     \u001b[0mCorrectionMatrix\u001b[0m\u001b[0;34m=\u001b[0m\u001b[0mnumpy\u001b[0m\u001b[0;34m.\u001b[0m\u001b[0mloadtxt\u001b[0m\u001b[0;34m(\u001b[0m\u001b[0mFN\u001b[0m\u001b[0;34m(\u001b[0m\u001b[0mPPBase\u001b[0m\u001b[0;34m[\u001b[0m\u001b[0;36m0\u001b[0m\u001b[0;34m]\u001b[0m\u001b[0;34m,\u001b[0m\u001b[0mPPBase\u001b[0m\u001b[0;34m[\u001b[0m\u001b[0;36m1\u001b[0m\u001b[0;34m]\u001b[0m\u001b[0;34m,\u001b[0m\u001b[0mPPBase\u001b[0m\u001b[0;34m[\u001b[0m\u001b[0;36m2\u001b[0m\u001b[0;34m]\u001b[0m\u001b[0;34m,\u001b[0m\u001b[0mb\u001b[0m\u001b[0;34m)\u001b[0m\u001b[0;34m)\u001b[0m\u001b[0;34m/\u001b[0m\u001b[0mnumpy\u001b[0m\u001b[0;34m.\u001b[0m\u001b[0mloadtxt\u001b[0m\u001b[0;34m(\u001b[0m\u001b[0mFN\u001b[0m\u001b[0;34m(\u001b[0m\u001b[0mPABase\u001b[0m\u001b[0;34m[\u001b[0m\u001b[0;36m0\u001b[0m\u001b[0;34m]\u001b[0m\u001b[0;34m,\u001b[0m\u001b[0mPABase\u001b[0m\u001b[0;34m[\u001b[0m\u001b[0;36m1\u001b[0m\u001b[0;34m]\u001b[0m\u001b[0;34m,\u001b[0m\u001b[0mPABase\u001b[0m\u001b[0;34m[\u001b[0m\u001b[0;36m2\u001b[0m\u001b[0;34m]\u001b[0m\u001b[0;34m,\u001b[0m\u001b[0mb\u001b[0m\u001b[0;34m)\u001b[0m\u001b[0;34m)\u001b[0m\u001b[0;34m\u001b[0m\u001b[0m\n\u001b[0m\u001b[1;32m     11\u001b[0m     \u001b[0;32mfor\u001b[0m \u001b[0mprim\u001b[0m \u001b[0;32min\u001b[0m \u001b[0mPrimaryModels\u001b[0m\u001b[0;34m:\u001b[0m\u001b[0;34m\u001b[0m\u001b[0m\n\u001b[1;32m     12\u001b[0m         \u001b[0;32mfor\u001b[0m \u001b[0mhad\u001b[0m \u001b[0;32min\u001b[0m \u001b[0mHadronicModels\u001b[0m\u001b[0;34m:\u001b[0m\u001b[0;34m\u001b[0m\u001b[0m\n",
      "\u001b[0;32m/Users/jonesb/.env/lib/python2.7/site-packages/numpy/lib/npyio.pyc\u001b[0m in \u001b[0;36mloadtxt\u001b[0;34m(fname, dtype, comments, delimiter, converters, skiprows, usecols, unpack, ndmin)\u001b[0m\n\u001b[1;32m    799\u001b[0m                 \u001b[0mfh\u001b[0m \u001b[0;34m=\u001b[0m \u001b[0miter\u001b[0m\u001b[0;34m(\u001b[0m\u001b[0mbz2\u001b[0m\u001b[0;34m.\u001b[0m\u001b[0mBZ2File\u001b[0m\u001b[0;34m(\u001b[0m\u001b[0mfname\u001b[0m\u001b[0;34m)\u001b[0m\u001b[0;34m)\u001b[0m\u001b[0;34m\u001b[0m\u001b[0m\n\u001b[1;32m    800\u001b[0m             \u001b[0;32melif\u001b[0m \u001b[0msys\u001b[0m\u001b[0;34m.\u001b[0m\u001b[0mversion_info\u001b[0m\u001b[0;34m[\u001b[0m\u001b[0;36m0\u001b[0m\u001b[0;34m]\u001b[0m \u001b[0;34m==\u001b[0m \u001b[0;36m2\u001b[0m\u001b[0;34m:\u001b[0m\u001b[0;34m\u001b[0m\u001b[0m\n\u001b[0;32m--> 801\u001b[0;31m                 \u001b[0mfh\u001b[0m \u001b[0;34m=\u001b[0m \u001b[0miter\u001b[0m\u001b[0;34m(\u001b[0m\u001b[0mopen\u001b[0m\u001b[0;34m(\u001b[0m\u001b[0mfname\u001b[0m\u001b[0;34m,\u001b[0m \u001b[0;34m'U'\u001b[0m\u001b[0;34m)\u001b[0m\u001b[0;34m)\u001b[0m\u001b[0;34m\u001b[0m\u001b[0m\n\u001b[0m\u001b[1;32m    802\u001b[0m             \u001b[0;32melse\u001b[0m\u001b[0;34m:\u001b[0m\u001b[0;34m\u001b[0m\u001b[0m\n\u001b[1;32m    803\u001b[0m                 \u001b[0mfh\u001b[0m \u001b[0;34m=\u001b[0m \u001b[0miter\u001b[0m\u001b[0;34m(\u001b[0m\u001b[0mopen\u001b[0m\u001b[0;34m(\u001b[0m\u001b[0mfname\u001b[0m\u001b[0;34m)\u001b[0m\u001b[0;34m)\u001b[0m\u001b[0;34m\u001b[0m\u001b[0m\n",
      "\u001b[0;31mIOError\u001b[0m: [Errno 2] No such file or directory: '../OutputsCorrected/HybridModel_SIBYLL2.3_pp_HillasGaisser_H3a/flux_0.0.0_b0.0.0000_E.txt'"
     ]
    }
   ],
   "source": [
    "PrimaryModels=[\"CombinedGHAndHG_H3a\",\"HillasGaisser_H3a\",\"CombinedGHAndHG_H4a\",\"HillasGaisser_H4a\",\"GaisserHonda\",\"PolyGonato\",\"Thunman\",\"ZatsepinSokolskaya\"]\n",
    "HadronicModels=[\"QGSJET-II-03\",\"QGSJET-II-04\",\"SIBYLL2.1\",\"EPOS-LHC\"]\n",
    "\n",
    "Atmosphere=\"HybridModel\"\n",
    "PPBase=[\"HybridModel\",\"SIBYLL2.3_pp\",\"HillasGaisser_H3a\"]\n",
    "APBase=[\"HybridModel\",\"SIBYLL2.3\",\"HillasGaisser_H3a\"]\n",
    "\n",
    "for bi in range(0,10):\n",
    "    b=float(bi)/10.\n",
    "    CorrectionMatrix=numpy.loadtxt(FN(PPBase[0],PPBase[1],PPBase[2],b))/numpy.loadtxt(FN(PABase[0],PABase[1],PABase[2],b))\n",
    "    for prim in PrimaryModels:\n",
    "        for had in HadronicModels:\n",
    "            ToCorrect=numpy.loadtxt(FN(Atmosphere,had,prim,b))\n",
    "            Correct=ToCorrect*CorrectionMatrix\n",
    "            if(not(os.path.isdir(DN(Atmosphere,had+\"pp\",prim)))):\n",
    "                os.mkdir(DN(Atmosphere,had+\"pp\",prim))\n",
    "            numpy.savetxt(FN(Atmosphere,had+\"pp\",prim,b))"
   ]
  },
  {
   "cell_type": "code",
   "execution_count": 15,
   "metadata": {
    "collapsed": false
   },
   "outputs": [
    {
     "ename": "SyntaxError",
     "evalue": "only named arguments may follow *expression (<ipython-input-15-4ddc2adc6498>, line 1)",
     "output_type": "error",
     "traceback": [
      "\u001b[0;36m  File \u001b[0;32m\"<ipython-input-15-4ddc2adc6498>\"\u001b[0;36m, line \u001b[0;32m1\u001b[0m\n\u001b[0;31m    FN(*PPBase,0)\u001b[0m\n\u001b[0;31mSyntaxError\u001b[0m\u001b[0;31m:\u001b[0m only named arguments may follow *expression\n"
     ]
    }
   ],
   "source": [
    "FN(PPBase,0)"
   ]
  },
  {
   "cell_type": "code",
   "execution_count": 14,
   "metadata": {
    "collapsed": false
   },
   "outputs": [
    {
     "ename": "SyntaxError",
     "evalue": "invalid syntax (<ipython-input-14-60ac280f3141>, line 1)",
     "output_type": "error",
     "traceback": [
      "\u001b[0;36m  File \u001b[0;32m\"<ipython-input-14-60ac280f3141>\"\u001b[0;36m, line \u001b[0;32m1\u001b[0m\n\u001b[0;31m    **PPBase\u001b[0m\n\u001b[0m     ^\u001b[0m\n\u001b[0;31mSyntaxError\u001b[0m\u001b[0;31m:\u001b[0m invalid syntax\n"
     ]
    }
   ],
   "source": [
    "**PPBase"
   ]
  },
  {
   "cell_type": "code",
   "execution_count": 14,
   "metadata": {
    "collapsed": false
   },
   "outputs": [],
   "source": [
    "NBins=1000\n",
    "\n",
    "for f in range(0, len(FileNames)):\n",
    "    OutDir=\"../OutputsInterpolated\"+str(NBins)+\"/\"\n",
    "    ToLoad=InDir+FileNames[f]+\"_E.txt\"\n",
    "    if os.path.isfile(ToLoad):\n",
    "        \n",
    "        Data=numpy.loadtxt(ToLoad)\n",
    "        ReturnData=[]\n",
    "        for row in Data:\n",
    "            rowint=scipy.interpolate.interp1d(range(0,len(row)),row)\n",
    "            ReturnRow=[]\n",
    "            for x in numpy.linspace(0,len(row)-1,NBins):\n",
    "                ReturnRow.append(float(rowint(x)))\n",
    "        \n",
    "            ReturnData.append(ReturnRow)\n",
    "        numpy.savetxt(OutDir+FileNames[f]+\"_E.txt\",ReturnData)"
   ]
  },
  {
   "cell_type": "code",
   "execution_count": null,
   "metadata": {
    "collapsed": false
   },
   "outputs": [],
   "source": [
    "float(rowint(1))"
   ]
  },
  {
   "cell_type": "code",
   "execution_count": null,
   "metadata": {
    "collapsed": true
   },
   "outputs": [],
   "source": []
  }
 ],
 "metadata": {
  "kernelspec": {
   "display_name": "Python 2",
   "language": "python",
   "name": "python2"
  },
  "language_info": {
   "codemirror_mode": {
    "name": "ipython",
    "version": 2
   },
   "file_extension": ".py",
   "mimetype": "text/x-python",
   "name": "python",
   "nbconvert_exporter": "python",
   "pygments_lexer": "ipython2",
   "version": "2.7.11"
  }
 },
 "nbformat": 4,
 "nbformat_minor": 0
}
