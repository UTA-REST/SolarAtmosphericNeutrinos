{
 "cells": [
  {
   "cell_type": "code",
   "execution_count": 23,
   "metadata": {
    "collapsed": false
   },
   "outputs": [],
   "source": [
    "from subprocess import call\n",
    "import os\n",
    "\n",
    "outfile=open(\"Commands.sh\",'w')\n",
    "for dirname in os.listdir(\"../Outputs\"):\n",
    "    if os.path.isdir(\"../Outputs/\"+dirname):\n",
    "        for filename in os.listdir(\"../Outputs/\"+dirname):\n",
    "            if(filename[-6:]==\"_E.txt\"):\n",
    "                FullFilePath=\"../Outputs/\"+dirname+\"/\"+filename\n",
    "                OutFilePath=\"../OutputsCorrected/\"+dirname+\"/\"+filename\n",
    "                if(not os.path.isdir(\"../OutputsCorrected/\"+dirname+\"/\")):\n",
    "                    os.mkdir(\"../OutputsCorrected/\"+dirname+\"/\")\n",
    "                if(not os.path.isfile(OutFilePath)):\n",
    "                    outfile.write(\"python ApplyMuonCorrection.py \"+ FullFilePath+\" \" + OutFilePath + \"\\n\")\n",
    "outfile.close()"
   ]
  },
  {
   "cell_type": "code",
   "execution_count": 7,
   "metadata": {
    "collapsed": false
   },
   "outputs": [],
   "source": [
    "from subprocess import call\n",
    "import os\n",
    "\n",
    "outfile=open(\"CommandsMRS.sh\",'w')\n",
    "for dirname in os.listdir(\"../InterpTest\"):\n",
    "    if os.path.isdir(\"../InterpTest/\"+dirname):\n",
    "        for filename in os.listdir(\"../InterpTest/\"+dirname):\n",
    "            if(filename[-6:]==\"_E.txt\"):\n",
    "                FullFilePath=\"../InterpTest/\"+dirname+\"/\"+filename\n",
    "                OutFilePath=\"../InterpTestCorrected/\"+dirname+\"/\"+filename\n",
    "                if(not os.path.isdir(\"../InterpTestCorrected/\"+dirname+\"/\")):\n",
    "                    os.mkdir(\"../InterpTestCorrected/\"+dirname+\"/\")\n",
    "                if(not os.path.isfile(OutFilePath)):\n",
    "                    outfile.write(\"python ApplyMuonCorrection.py \"+ FullFilePath+\" \" + OutFilePath + \"\\n\")\n",
    "outfile.close()"
   ]
  },
  {
   "cell_type": "code",
   "execution_count": null,
   "metadata": {
    "collapsed": true
   },
   "outputs": [],
   "source": []
  }
 ],
 "metadata": {
  "kernelspec": {
   "display_name": "Python 2",
   "language": "python",
   "name": "python2"
  },
  "language_info": {
   "codemirror_mode": {
    "name": "ipython",
    "version": 2
   },
   "file_extension": ".py",
   "mimetype": "text/x-python",
   "name": "python",
   "nbconvert_exporter": "python",
   "pygments_lexer": "ipython2",
   "version": "2.7.11"
  }
 },
 "nbformat": 4,
 "nbformat_minor": 0
}
